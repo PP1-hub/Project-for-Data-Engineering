{
 "cells": [
  {
   "cell_type": "markdown",
   "id": "606f626c",
   "metadata": {},
   "source": [
    "# Python Project for Data Engineering"
   ]
  },
  {
   "cell_type": "markdown",
   "id": "828ac295",
   "metadata": {},
   "source": [
    "## Project Overview"
   ]
  },
  {
   "cell_type": "markdown",
   "id": "bf91b839",
   "metadata": {},
   "source": [
    "For this project, you will assume the role of data engineer working for an international financial analysis company. Your company tracks stock prices, commodities, forex rates, inflation rates.  Your job is to extract financial data from various sources like websites, APIs and files provided by various financial analysis firms. After you collect the data, you extract the data of interest to your company and transform it based on the requirements given to you. Once the transformation is complete you load that data into a database."
   ]
  },
  {
   "cell_type": "markdown",
   "id": "263f7d61",
   "metadata": {},
   "source": [
    "## Project Tasks"
   ]
  },
  {
   "cell_type": "markdown",
   "id": "1db85d98",
   "metadata": {},
   "source": [
    "* Collect data using APIs\n",
    "\n",
    "* Collect data using webscraping.\n",
    "\n",
    "* Download files to process.    \n",
    "\n",
    "* Read csv, xml and json file types.\n",
    "\n",
    "* Extract data from the above file types.\n",
    "\n",
    "* Transform data.\n",
    "\n",
    "* Use the built in logging module.\n",
    "\n",
    "* Save the transformed data in a ready-to-load format which data engineers can use to load the data.\n",
    "\n"
   ]
  },
  {
   "cell_type": "markdown",
   "id": "2610aaa1",
   "metadata": {},
   "source": [
    "## Extract, Transform, Load"
   ]
  },
  {
   "cell_type": "code",
   "execution_count": 42,
   "id": "4e3632f0",
   "metadata": {},
   "outputs": [],
   "source": [
    "import glob                         # this module helps in selecting files \n",
    "import pandas as pd\n",
    "import xml.etree.ElementTree as ET  # this module helps in processing XML files.\n",
    "from datetime import datetime"
   ]
  },
  {
   "cell_type": "markdown",
   "id": "3d18439f",
   "metadata": {},
   "source": [
    "### Download Files"
   ]
  },
  {
   "cell_type": "code",
   "execution_count": 43,
   "id": "7feb1572",
   "metadata": {},
   "outputs": [],
   "source": [
    "import zipfile\n",
    "with zipfile.ZipFile(r\"C:\\Users\\baiba\\Downloads\\source.zip\") as zip_ref:\n",
    "    zip_ref.extractall(\"targetdir\")"
   ]
  },
  {
   "cell_type": "code",
   "execution_count": 44,
   "id": "138d1a18",
   "metadata": {},
   "outputs": [],
   "source": [
    "tmpfile    = \"temp.tmp\"               # file used to store all extracted data\n",
    "logfile    = \"logfile.txt\"            # all event logs will be stored in this file\n",
    "targetfile = \"transformed_data.csv\"   # file where transformed data is stored"
   ]
  },
  {
   "cell_type": "markdown",
   "id": "881fa1ef",
   "metadata": {},
   "source": [
    "## Extract"
   ]
  },
  {
   "cell_type": "markdown",
   "id": "0df9edb0",
   "metadata": {},
   "source": [
    "### CSV Extract Function"
   ]
  },
  {
   "cell_type": "code",
   "execution_count": 45,
   "id": "084716b2",
   "metadata": {},
   "outputs": [],
   "source": [
    "def extract_from_csv(file_to_process):\n",
    "    dataframe = pd.read_csv(file_to_process)\n",
    "    return dataframe"
   ]
  },
  {
   "cell_type": "markdown",
   "id": "4c81a3ee",
   "metadata": {},
   "source": [
    "### JSON Extract Function"
   ]
  },
  {
   "cell_type": "code",
   "execution_count": 25,
   "id": "67e6d1d1",
   "metadata": {},
   "outputs": [],
   "source": [
    "def extract_from_json(file_to_process):\n",
    "    dataframe = pd.read_json(file_to_process,lines=True)\n",
    "    return dataframe"
   ]
  },
  {
   "cell_type": "markdown",
   "id": "5ac9f45a",
   "metadata": {},
   "source": [
    "### XML Extract Function"
   ]
  },
  {
   "cell_type": "code",
   "execution_count": 26,
   "id": "87b39d2b",
   "metadata": {},
   "outputs": [],
   "source": [
    "def extract_from_xml(file_to_process):\n",
    "    dataframe = pd.DataFrame(columns=[\"name\", \"height\", \"weight\"])\n",
    "    tree = ET.parse(file_to_process)\n",
    "    root = tree.getroot()\n",
    "    for person in root:\n",
    "        name = person.find(\"name\").text\n",
    "        height = float(person.find(\"height\").text)\n",
    "        weight = float(person.find(\"weight\").text)\n",
    "        dataframe = dataframe.append({\"name\":name, \"height\":height, \"weight\":weight}, ignore_index=True)\n",
    "    return dataframe"
   ]
  },
  {
   "cell_type": "markdown",
   "id": "efc796cf",
   "metadata": {},
   "source": [
    "## Exctract Function\n",
    " "
   ]
  },
  {
   "cell_type": "code",
   "execution_count": 46,
   "id": "bfb4698f",
   "metadata": {},
   "outputs": [],
   "source": [
    "def extract():\n",
    "    extracted_data = pd.DataFrame(columns=['name','height','weight']) # create an empty data frame to hold extracted data\n",
    "    \n",
    "    #process all csv files\n",
    "    for csvfile in glob.glob(\"*.csv\"):\n",
    "        extracted_data = extracted_data.append(extract_from_csv(csvfile), ignore_index=True)\n",
    "        \n",
    "    #process all json files\n",
    "    for jsonfile in glob.glob(\"*.json\"):\n",
    "        extracted_data = extracted_data.append(extract_from_json(jsonfile), ignore_index=True)\n",
    "    \n",
    "    #process all xml files\n",
    "    for xmlfile in glob.glob(\"*.xml\"):\n",
    "        extracted_data = extracted_data.append(extract_from_xml(xmlfile), ignore_index=True)\n",
    "        \n",
    "    return extracted_data"
   ]
  },
  {
   "cell_type": "markdown",
   "id": "4658290c",
   "metadata": {},
   "source": [
    "## Transform"
   ]
  },
  {
   "cell_type": "code",
   "execution_count": 28,
   "id": "4e726f59",
   "metadata": {},
   "outputs": [],
   "source": [
    "def transform(data):\n",
    "        #Convert height which is in inches to millimeter\n",
    "        #Convert the datatype of the column into float\n",
    "        #data.height = data.height.astype(float)\n",
    "        #Convert inches to meters and round off to two decimals(one inch is 0.0254 meters)\n",
    "        data['height'] = round(data.height * 0.0254,2)\n",
    "        \n",
    "        #Convert weight which is in pounds to kilograms\n",
    "        #Convert the datatype of the column into float\n",
    "        #data.weight = data.weight.astype(float)\n",
    "        #Convert pounds to kilograms and round off to two decimals(one pound is 0.45359237 kilograms)\n",
    "        data['weight'] = round(data.weight * 0.45359237,2)\n",
    "        return data"
   ]
  },
  {
   "cell_type": "markdown",
   "id": "34d3a722",
   "metadata": {},
   "source": [
    "## Loading"
   ]
  },
  {
   "cell_type": "code",
   "execution_count": 29,
   "id": "089c3a3d",
   "metadata": {},
   "outputs": [],
   "source": [
    "def load(targetfile,data_to_load):\n",
    "    data_to_load.to_csv(targetfile) "
   ]
  },
  {
   "cell_type": "markdown",
   "id": "16cf202b",
   "metadata": {},
   "source": [
    "## Logging"
   ]
  },
  {
   "cell_type": "code",
   "execution_count": 47,
   "id": "92311b78",
   "metadata": {},
   "outputs": [],
   "source": [
    "def log(message):\n",
    "    timestamp_format = '%Y-%h-%d-%H:%M:%S' # Year-Monthname-Day-Hour-Minute-Second\n",
    "    now = datetime.now() # get current timestamp\n",
    "    timestamp = now.strftime(timestamp_format)\n",
    "    with open(\"logfile.txt\",\"a\") as f:\n",
    "        f.write(timestamp + ',' + message + '\\n')"
   ]
  },
  {
   "cell_type": "markdown",
   "id": "f2db9114",
   "metadata": {},
   "source": [
    "## Running the ETL Process"
   ]
  },
  {
   "cell_type": "code",
   "execution_count": 48,
   "id": "cd9d7142",
   "metadata": {},
   "outputs": [],
   "source": [
    "log(\"ETL Job Started\")"
   ]
  },
  {
   "cell_type": "code",
   "execution_count": null,
   "id": "62654747",
   "metadata": {},
   "outputs": [],
   "source": [
    "log(\"Extract phase Started\")\n",
    "extracted_data = extract()\n",
    "log(\"Extract phase Ended\")\n",
    "extracted_data"
   ]
  },
  {
   "cell_type": "code",
   "execution_count": null,
   "id": "78c1ebf2",
   "metadata": {},
   "outputs": [],
   "source": [
    "log(\"Transform phase Started\")\n",
    "transformed_data = transform(extracted_data)\n",
    "log(\"Transform phase Ended\")\n",
    "transformed_data "
   ]
  },
  {
   "cell_type": "code",
   "execution_count": null,
   "id": "9b0ac6a0",
   "metadata": {},
   "outputs": [],
   "source": [
    "log(\"Load phase Started\")\n",
    "load(targetfile,transformed_data)\n",
    "log(\"Load phase Ended\")"
   ]
  },
  {
   "cell_type": "markdown",
   "id": "0fceefc9",
   "metadata": {},
   "source": [
    "# Webscraping"
   ]
  },
  {
   "cell_type": "markdown",
   "id": "034158ea",
   "metadata": {},
   "source": [
    "The wikipedia webpage https://en.wikipedia.org/wiki/List_of_largest_banks provides information about largest banks in the world by various parameters. Scrape the data from the table 'By market capitalization' and store it in a JSON file."
   ]
  },
  {
   "cell_type": "code",
   "execution_count": 1,
   "id": "076f3270",
   "metadata": {},
   "outputs": [],
   "source": [
    "from bs4 import BeautifulSoup\n",
    "import requests\n",
    "import pandas as pd"
   ]
  },
  {
   "cell_type": "code",
   "execution_count": 4,
   "id": "85502596",
   "metadata": {},
   "outputs": [],
   "source": [
    "html_data = requests.get(\"https://en.wikipedia.org/wiki/List_of_largest_banks\").text"
   ]
  },
  {
   "cell_type": "code",
   "execution_count": 8,
   "id": "a8430dcb",
   "metadata": {},
   "outputs": [
    {
     "data": {
      "text/plain": [
       "'List of largest banks -'"
      ]
     },
     "execution_count": 8,
     "metadata": {},
     "output_type": "execute_result"
    }
   ],
   "source": [
    "html_data[101:124]"
   ]
  },
  {
   "cell_type": "code",
   "execution_count": 9,
   "id": "3d7c70a3",
   "metadata": {},
   "outputs": [],
   "source": [
    "soup = BeautifulSoup(html_data, \"html.parser\")"
   ]
  },
  {
   "cell_type": "code",
   "execution_count": 10,
   "id": "d924cf5d",
   "metadata": {},
   "outputs": [],
   "source": [
    "data = pd.DataFrame(columns=[\"Name\", \"Market Cap (US$ Billion)\"])"
   ]
  },
  {
   "cell_type": "markdown",
   "id": "506d6a65",
   "metadata": {},
   "source": [
    "Load the data from the By market capitalization table into a pandas dataframe. The dataframe should have the country Name and Market Cap (US$ Billion) as column names. Using the empty dataframe data and the given loop extract the necessary data from each row and append it to the empty dataframe."
   ]
  },
  {
   "cell_type": "code",
   "execution_count": 11,
   "id": "dca4ce20",
   "metadata": {},
   "outputs": [],
   "source": [
    "for row in soup.find_all('tbody')[3].find_all('tr'):\n",
    "    col = row.find_all('td')\n",
    "    if col:\n",
    "        bank_name = col[1].find_all(\"a\")[1].text\n",
    "        market_cap = float(col[2].text)\n",
    "        data = data.append({\"Name\": bank_name,\n",
    "                            \"Market Cap (US$ Billion)\": market_cap},\n",
    "                           ignore_index=True)"
   ]
  },
  {
   "cell_type": "code",
   "execution_count": 12,
   "id": "011d8d5a",
   "metadata": {},
   "outputs": [
    {
     "data": {
      "text/html": [
       "<div>\n",
       "<style scoped>\n",
       "    .dataframe tbody tr th:only-of-type {\n",
       "        vertical-align: middle;\n",
       "    }\n",
       "\n",
       "    .dataframe tbody tr th {\n",
       "        vertical-align: top;\n",
       "    }\n",
       "\n",
       "    .dataframe thead th {\n",
       "        text-align: right;\n",
       "    }\n",
       "</style>\n",
       "<table border=\"1\" class=\"dataframe\">\n",
       "  <thead>\n",
       "    <tr style=\"text-align: right;\">\n",
       "      <th></th>\n",
       "      <th>Name</th>\n",
       "      <th>Market Cap (US$ Billion)</th>\n",
       "    </tr>\n",
       "  </thead>\n",
       "  <tbody>\n",
       "    <tr>\n",
       "      <th>0</th>\n",
       "      <td>JPMorgan Chase</td>\n",
       "      <td>368.78</td>\n",
       "    </tr>\n",
       "    <tr>\n",
       "      <th>1</th>\n",
       "      <td>Industrial and Commercial Bank of China</td>\n",
       "      <td>295.65</td>\n",
       "    </tr>\n",
       "    <tr>\n",
       "      <th>2</th>\n",
       "      <td>Bank of America</td>\n",
       "      <td>279.73</td>\n",
       "    </tr>\n",
       "    <tr>\n",
       "      <th>3</th>\n",
       "      <td>Wells Fargo</td>\n",
       "      <td>214.34</td>\n",
       "    </tr>\n",
       "    <tr>\n",
       "      <th>4</th>\n",
       "      <td>China Construction Bank</td>\n",
       "      <td>207.98</td>\n",
       "    </tr>\n",
       "  </tbody>\n",
       "</table>\n",
       "</div>"
      ],
      "text/plain": [
       "                                      Name  Market Cap (US$ Billion)\n",
       "0                           JPMorgan Chase                    368.78\n",
       "1  Industrial and Commercial Bank of China                    295.65\n",
       "2                          Bank of America                    279.73\n",
       "3                              Wells Fargo                    214.34\n",
       "4                  China Construction Bank                    207.98"
      ]
     },
     "execution_count": 12,
     "metadata": {},
     "output_type": "execute_result"
    }
   ],
   "source": [
    "data.head()"
   ]
  },
  {
   "cell_type": "code",
   "execution_count": 13,
   "id": "328e007e",
   "metadata": {},
   "outputs": [],
   "source": [
    "data.to_json(r'largest_bank.json') #export to json"
   ]
  },
  {
   "cell_type": "markdown",
   "id": "41a3233a",
   "metadata": {},
   "source": [
    "# Extract API Data"
   ]
  },
  {
   "cell_type": "code",
   "execution_count": 15,
   "id": "5dc077bc",
   "metadata": {},
   "outputs": [
    {
     "data": {
      "text/plain": [
       "{'success': True,\n",
       " 'timestamp': 1647945844,\n",
       " 'base': 'EUR',\n",
       " 'date': '2022-03-22',\n",
       " 'rates': {'AED': 4.03948,\n",
       "  'AFN': 97.31795,\n",
       "  'ALL': 122.850425,\n",
       "  'AMD': 539.199454,\n",
       "  'ANG': 1.988467,\n",
       "  'AOA': 501.494935,\n",
       "  'ARS': 120.948615,\n",
       "  'AUD': 1.48099,\n",
       "  'AWG': 1.980159,\n",
       "  'AZN': 1.870276,\n",
       "  'BAM': 1.956173,\n",
       "  'BBD': 2.22765,\n",
       "  'BDT': 94.913444,\n",
       "  'BGN': 1.955764,\n",
       "  'BHD': 0.414578,\n",
       "  'BIF': 2262.687347,\n",
       "  'BMD': 1.099783,\n",
       "  'BND': 1.496576,\n",
       "  'BOB': 7.596501,\n",
       "  'BRL': 5.428194,\n",
       "  'BSD': 1.103268,\n",
       "  'BTC': 2.5700761e-05,\n",
       "  'BTN': 83.917278,\n",
       "  'BWP': 12.76287,\n",
       "  'BYN': 3.606267,\n",
       "  'BYR': 21555.743907,\n",
       "  'BZD': 2.22395,\n",
       "  'CAD': 1.38406,\n",
       "  'CDF': 2206.16429,\n",
       "  'CHF': 1.029441,\n",
       "  'CLF': 0.031637,\n",
       "  'CLP': 872.963798,\n",
       "  'CNY': 6.998692,\n",
       "  'COP': 4185.223645,\n",
       "  'CRC': 711.081157,\n",
       "  'CUC': 1.099783,\n",
       "  'CUP': 29.144246,\n",
       "  'CVE': 110.285342,\n",
       "  'CZK': 24.729171,\n",
       "  'DJF': 196.41087,\n",
       "  'DKK': 7.439613,\n",
       "  'DOP': 60.529164,\n",
       "  'DZD': 156.665859,\n",
       "  'EGP': 20.348951,\n",
       "  'ERN': 16.496748,\n",
       "  'ETB': 56.634746,\n",
       "  'EUR': 1,\n",
       "  'FJD': 2.30421,\n",
       "  'FKP': 0.843488,\n",
       "  'GBP': 0.833179,\n",
       "  'GEL': 3.546808,\n",
       "  'GGP': 0.843488,\n",
       "  'GHS': 8.054386,\n",
       "  'GIP': 0.843488,\n",
       "  'GMD': 58.616969,\n",
       "  'GNF': 9856.117938,\n",
       "  'GTQ': 8.501168,\n",
       "  'GYD': 230.832577,\n",
       "  'HKD': 8.608226,\n",
       "  'HNL': 27.080995,\n",
       "  'HRK': 7.573656,\n",
       "  'HTG': 115.811361,\n",
       "  'HUF': 372.738193,\n",
       "  'IDR': 15775.065279,\n",
       "  'ILS': 3.547185,\n",
       "  'IMP': 0.843488,\n",
       "  'INR': 83.777391,\n",
       "  'IQD': 1605.682965,\n",
       "  'IRR': 46520.814778,\n",
       "  'ISK': 142.697167,\n",
       "  'JEP': 0.843488,\n",
       "  'JMD': 168.490078,\n",
       "  'JOD': 0.779693,\n",
       "  'JPY': 132.984653,\n",
       "  'KES': 125.927466,\n",
       "  'KGS': 109.840594,\n",
       "  'KHR': 4447.020243,\n",
       "  'KMF': 490.915559,\n",
       "  'KPW': 989.804952,\n",
       "  'KRW': 1341.630621,\n",
       "  'KWD': 0.334389,\n",
       "  'KYD': 0.919461,\n",
       "  'KZT': 561.338434,\n",
       "  'LAK': 12714.129486,\n",
       "  'LBP': 1668.162184,\n",
       "  'LKR': 308.930773,\n",
       "  'LRD': 168.541198,\n",
       "  'LSL': 16.452454,\n",
       "  'LTL': 3.247373,\n",
       "  'LVL': 0.665247,\n",
       "  'LYD': 5.130406,\n",
       "  'MAD': 10.734432,\n",
       "  'MDL': 20.355999,\n",
       "  'MGA': 4461.373456,\n",
       "  'MKD': 61.625806,\n",
       "  'MMK': 1961.892767,\n",
       "  'MNT': 3166.024952,\n",
       "  'MOP': 8.893059,\n",
       "  'MRO': 392.622289,\n",
       "  'MUR': 48.887015,\n",
       "  'MVR': 17.002137,\n",
       "  'MWK': 901.382454,\n",
       "  'MXN': 22.351543,\n",
       "  'MYR': 4.637234,\n",
       "  'MZN': 70.1987,\n",
       "  'NAD': 16.453138,\n",
       "  'NGN': 458.708317,\n",
       "  'NIO': 39.460278,\n",
       "  'NOK': 9.627917,\n",
       "  'NPR': 134.267765,\n",
       "  'NZD': 1.585057,\n",
       "  'OMR': 0.42346,\n",
       "  'PAB': 1.103293,\n",
       "  'PEN': 4.164856,\n",
       "  'PGK': 3.887717,\n",
       "  'PHP': 57.632468,\n",
       "  'PKR': 199.335729,\n",
       "  'PLN': 4.699207,\n",
       "  'PYG': 7680.416635,\n",
       "  'QAR': 4.004328,\n",
       "  'RON': 4.944842,\n",
       "  'RSD': 117.611223,\n",
       "  'RUB': 114.371943,\n",
       "  'RWF': 1128.768199,\n",
       "  'SAR': 4.125486,\n",
       "  'SBD': 8.851441,\n",
       "  'SCR': 15.853032,\n",
       "  'SDG': 492.153137,\n",
       "  'SEK': 10.421438,\n",
       "  'SGD': 1.493797,\n",
       "  'SHP': 1.514838,\n",
       "  'SLL': 12900.45325,\n",
       "  'SOS': 643.373313,\n",
       "  'SRD': 22.777619,\n",
       "  'STD': 22763.284592,\n",
       "  'SVC': 9.653693,\n",
       "  'SYP': 2762.654897,\n",
       "  'SZL': 16.486391,\n",
       "  'THB': 36.865833,\n",
       "  'TJS': 14.348847,\n",
       "  'TMT': 3.860238,\n",
       "  'TND': 3.24491,\n",
       "  'TOP': 2.48628,\n",
       "  'TRY': 16.295374,\n",
       "  'TTD': 7.484212,\n",
       "  'TWD': 31.428714,\n",
       "  'TZS': 2550.396171,\n",
       "  'UAH': 32.438278,\n",
       "  'UGX': 3955.42957,\n",
       "  'USD': 1.099783,\n",
       "  'UYU': 46.919654,\n",
       "  'UZS': 12698.796797,\n",
       "  'VEF': 235166811856.62354,\n",
       "  'VND': 25154.783292,\n",
       "  'VUV': 125.503484,\n",
       "  'WST': 2.883681,\n",
       "  'XAF': 656.078012,\n",
       "  'XAG': 0.043805,\n",
       "  'XAU': 0.000571,\n",
       "  'XCD': 2.972218,\n",
       "  'XDR': 0.798855,\n",
       "  'XOF': 656.066079,\n",
       "  'XPF': 119.188963,\n",
       "  'YER': 275.220858,\n",
       "  'ZAR': 16.357796,\n",
       "  'ZMK': 9899.365709,\n",
       "  'ZMW': 19.528469,\n",
       "  'ZWL': 354.12963}}"
      ]
     },
     "execution_count": 15,
     "metadata": {},
     "output_type": "execute_result"
    }
   ],
   "source": [
    "url = \"http://api.exchangeratesapi.io/v1/latest?base=EUR&access_key=3ae8a41ae8b314fe2c76abee00969ef2\"  \n",
    "response = requests.get(url)\n",
    "response.json()"
   ]
  },
  {
   "cell_type": "markdown",
   "id": "05400606",
   "metadata": {},
   "source": [
    "### Save as DataFrame"
   ]
  },
  {
   "cell_type": "code",
   "execution_count": 16,
   "id": "20a84039",
   "metadata": {},
   "outputs": [
    {
     "data": {
      "text/html": [
       "<div>\n",
       "<style scoped>\n",
       "    .dataframe tbody tr th:only-of-type {\n",
       "        vertical-align: middle;\n",
       "    }\n",
       "\n",
       "    .dataframe tbody tr th {\n",
       "        vertical-align: top;\n",
       "    }\n",
       "\n",
       "    .dataframe thead th {\n",
       "        text-align: right;\n",
       "    }\n",
       "</style>\n",
       "<table border=\"1\" class=\"dataframe\">\n",
       "  <thead>\n",
       "    <tr style=\"text-align: right;\">\n",
       "      <th></th>\n",
       "      <th>success</th>\n",
       "      <th>timestamp</th>\n",
       "      <th>base</th>\n",
       "      <th>date</th>\n",
       "      <th>rates</th>\n",
       "    </tr>\n",
       "  </thead>\n",
       "  <tbody>\n",
       "    <tr>\n",
       "      <th>AED</th>\n",
       "      <td>True</td>\n",
       "      <td>1647945844</td>\n",
       "      <td>EUR</td>\n",
       "      <td>2022-03-22</td>\n",
       "      <td>4.039480</td>\n",
       "    </tr>\n",
       "    <tr>\n",
       "      <th>AFN</th>\n",
       "      <td>True</td>\n",
       "      <td>1647945844</td>\n",
       "      <td>EUR</td>\n",
       "      <td>2022-03-22</td>\n",
       "      <td>97.317950</td>\n",
       "    </tr>\n",
       "    <tr>\n",
       "      <th>ALL</th>\n",
       "      <td>True</td>\n",
       "      <td>1647945844</td>\n",
       "      <td>EUR</td>\n",
       "      <td>2022-03-22</td>\n",
       "      <td>122.850425</td>\n",
       "    </tr>\n",
       "    <tr>\n",
       "      <th>AMD</th>\n",
       "      <td>True</td>\n",
       "      <td>1647945844</td>\n",
       "      <td>EUR</td>\n",
       "      <td>2022-03-22</td>\n",
       "      <td>539.199454</td>\n",
       "    </tr>\n",
       "    <tr>\n",
       "      <th>ANG</th>\n",
       "      <td>True</td>\n",
       "      <td>1647945844</td>\n",
       "      <td>EUR</td>\n",
       "      <td>2022-03-22</td>\n",
       "      <td>1.988467</td>\n",
       "    </tr>\n",
       "    <tr>\n",
       "      <th>...</th>\n",
       "      <td>...</td>\n",
       "      <td>...</td>\n",
       "      <td>...</td>\n",
       "      <td>...</td>\n",
       "      <td>...</td>\n",
       "    </tr>\n",
       "    <tr>\n",
       "      <th>YER</th>\n",
       "      <td>True</td>\n",
       "      <td>1647945844</td>\n",
       "      <td>EUR</td>\n",
       "      <td>2022-03-22</td>\n",
       "      <td>275.220858</td>\n",
       "    </tr>\n",
       "    <tr>\n",
       "      <th>ZAR</th>\n",
       "      <td>True</td>\n",
       "      <td>1647945844</td>\n",
       "      <td>EUR</td>\n",
       "      <td>2022-03-22</td>\n",
       "      <td>16.357796</td>\n",
       "    </tr>\n",
       "    <tr>\n",
       "      <th>ZMK</th>\n",
       "      <td>True</td>\n",
       "      <td>1647945844</td>\n",
       "      <td>EUR</td>\n",
       "      <td>2022-03-22</td>\n",
       "      <td>9899.365709</td>\n",
       "    </tr>\n",
       "    <tr>\n",
       "      <th>ZMW</th>\n",
       "      <td>True</td>\n",
       "      <td>1647945844</td>\n",
       "      <td>EUR</td>\n",
       "      <td>2022-03-22</td>\n",
       "      <td>19.528469</td>\n",
       "    </tr>\n",
       "    <tr>\n",
       "      <th>ZWL</th>\n",
       "      <td>True</td>\n",
       "      <td>1647945844</td>\n",
       "      <td>EUR</td>\n",
       "      <td>2022-03-22</td>\n",
       "      <td>354.129630</td>\n",
       "    </tr>\n",
       "  </tbody>\n",
       "</table>\n",
       "<p>168 rows × 5 columns</p>\n",
       "</div>"
      ],
      "text/plain": [
       "     success   timestamp base        date        rates\n",
       "AED     True  1647945844  EUR  2022-03-22     4.039480\n",
       "AFN     True  1647945844  EUR  2022-03-22    97.317950\n",
       "ALL     True  1647945844  EUR  2022-03-22   122.850425\n",
       "AMD     True  1647945844  EUR  2022-03-22   539.199454\n",
       "ANG     True  1647945844  EUR  2022-03-22     1.988467\n",
       "..       ...         ...  ...         ...          ...\n",
       "YER     True  1647945844  EUR  2022-03-22   275.220858\n",
       "ZAR     True  1647945844  EUR  2022-03-22    16.357796\n",
       "ZMK     True  1647945844  EUR  2022-03-22  9899.365709\n",
       "ZMW     True  1647945844  EUR  2022-03-22    19.528469\n",
       "ZWL     True  1647945844  EUR  2022-03-22   354.129630\n",
       "\n",
       "[168 rows x 5 columns]"
      ]
     },
     "execution_count": 16,
     "metadata": {},
     "output_type": "execute_result"
    }
   ],
   "source": [
    "dataframe = pd.DataFrame(response.json())\n",
    "dataframe"
   ]
  },
  {
   "cell_type": "code",
   "execution_count": 17,
   "id": "3e275120",
   "metadata": {},
   "outputs": [
    {
     "data": {
      "text/html": [
       "<div>\n",
       "<style scoped>\n",
       "    .dataframe tbody tr th:only-of-type {\n",
       "        vertical-align: middle;\n",
       "    }\n",
       "\n",
       "    .dataframe tbody tr th {\n",
       "        vertical-align: top;\n",
       "    }\n",
       "\n",
       "    .dataframe thead th {\n",
       "        text-align: right;\n",
       "    }\n",
       "</style>\n",
       "<table border=\"1\" class=\"dataframe\">\n",
       "  <thead>\n",
       "    <tr style=\"text-align: right;\">\n",
       "      <th></th>\n",
       "      <th>rates</th>\n",
       "    </tr>\n",
       "  </thead>\n",
       "  <tbody>\n",
       "    <tr>\n",
       "      <th>AED</th>\n",
       "      <td>4.039480</td>\n",
       "    </tr>\n",
       "    <tr>\n",
       "      <th>AFN</th>\n",
       "      <td>97.317950</td>\n",
       "    </tr>\n",
       "    <tr>\n",
       "      <th>ALL</th>\n",
       "      <td>122.850425</td>\n",
       "    </tr>\n",
       "    <tr>\n",
       "      <th>AMD</th>\n",
       "      <td>539.199454</td>\n",
       "    </tr>\n",
       "    <tr>\n",
       "      <th>ANG</th>\n",
       "      <td>1.988467</td>\n",
       "    </tr>\n",
       "    <tr>\n",
       "      <th>...</th>\n",
       "      <td>...</td>\n",
       "    </tr>\n",
       "    <tr>\n",
       "      <th>YER</th>\n",
       "      <td>275.220858</td>\n",
       "    </tr>\n",
       "    <tr>\n",
       "      <th>ZAR</th>\n",
       "      <td>16.357796</td>\n",
       "    </tr>\n",
       "    <tr>\n",
       "      <th>ZMK</th>\n",
       "      <td>9899.365709</td>\n",
       "    </tr>\n",
       "    <tr>\n",
       "      <th>ZMW</th>\n",
       "      <td>19.528469</td>\n",
       "    </tr>\n",
       "    <tr>\n",
       "      <th>ZWL</th>\n",
       "      <td>354.129630</td>\n",
       "    </tr>\n",
       "  </tbody>\n",
       "</table>\n",
       "<p>168 rows × 1 columns</p>\n",
       "</div>"
      ],
      "text/plain": [
       "           rates\n",
       "AED     4.039480\n",
       "AFN    97.317950\n",
       "ALL   122.850425\n",
       "AMD   539.199454\n",
       "ANG     1.988467\n",
       "..           ...\n",
       "YER   275.220858\n",
       "ZAR    16.357796\n",
       "ZMK  9899.365709\n",
       "ZMW    19.528469\n",
       "ZWL   354.129630\n",
       "\n",
       "[168 rows x 1 columns]"
      ]
     },
     "execution_count": 17,
     "metadata": {},
     "output_type": "execute_result"
    }
   ],
   "source": [
    "#Drop unnecessary columns\n",
    "dataframe.drop(columns=[\"success\", \"timestamp\", \"base\", \"date\"], inplace=True)\n",
    "dataframe"
   ]
  },
  {
   "cell_type": "markdown",
   "id": "cbb93aaf",
   "metadata": {},
   "source": [
    "### Load the data"
   ]
  },
  {
   "cell_type": "code",
   "execution_count": 18,
   "id": "f7802d98",
   "metadata": {},
   "outputs": [],
   "source": [
    "dataframe.to_csv(\"exchange_rates_1.csv\")"
   ]
  }
 ],
 "metadata": {
  "kernelspec": {
   "display_name": "Python 3 (ipykernel)",
   "language": "python",
   "name": "python3"
  },
  "language_info": {
   "codemirror_mode": {
    "name": "ipython",
    "version": 3
   },
   "file_extension": ".py",
   "mimetype": "text/x-python",
   "name": "python",
   "nbconvert_exporter": "python",
   "pygments_lexer": "ipython3",
   "version": "3.9.7"
  }
 },
 "nbformat": 4,
 "nbformat_minor": 5
}
